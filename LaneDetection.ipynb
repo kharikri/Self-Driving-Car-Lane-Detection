{
 "cells": [
  {
   "cell_type": "markdown",
   "metadata": {},
   "source": [
    "# **Finding Lane Lines on the Road** \n",
    "***\n",
    "In this project, you will use the tools you learned about in the lesson to identify lane lines on the road.  You can develop your pipeline on a series of individual images, and later apply the result to a video stream (really just a series of images). Check out the video clip \"raw-lines-example.mp4\" (also contained in this repository) to see what the output should look like after using the helper functions below. \n",
    "\n",
    "Once you have a result that looks roughly like \"raw-lines-example.mp4\", you'll need to get creative and try to average and/or extrapolate the line segments you've detected to map out the full extent of the lane lines.  You can see an example of the result you're going for in the video \"P1_example.mp4\".  Ultimately, you would like to draw just one line for the left side of the lane, and one for the right.\n",
    "\n",
    "---\n",
    "Let's have a look at our first image called 'test_images/solidWhiteRight.jpg'.  Run the 2 cells below (hit Shift-Enter or the \"play\" button above) to display the image.\n",
    "\n",
    "**Note** If, at any point, you encounter frozen display windows or other confounding issues, you can always start again with a clean slate by going to the \"Kernel\" menu above and selecting \"Restart & Clear Output\".\n",
    "\n",
    "---"
   ]
  },
  {
   "cell_type": "markdown",
   "metadata": {},
   "source": [
    "**The tools you have are color selection, region of interest selection, grayscaling, Gaussian smoothing, Canny Edge Detection and Hough Tranform line detection.  You  are also free to explore and try other techniques that were not presented in the lesson.  Your goal is piece together a pipeline to detect the line segments in the image, then average/extrapolate them and draw them onto the image for display (as below).  Once you have a working pipeline, try it out on the video stream below.**\n",
    "\n",
    "---\n",
    "\n",
    "<figure>\n",
    " <img src=\"line-segments-example.jpg\" width=\"380\" alt=\"Combined Image\" />\n",
    " <figcaption>\n",
    " <p></p> \n",
    " <p style=\"text-align: center;\"> Your output should look something like this (above) after detecting line segments using the helper functions below </p> \n",
    " </figcaption>\n",
    "</figure>\n",
    " <p></p> \n",
    "<figure>\n",
    " <img src=\"laneLines_thirdPass.jpg\" width=\"380\" alt=\"Combined Image\" />\n",
    " <figcaption>\n",
    " <p></p> \n",
    " <p style=\"text-align: center;\"> Your goal is to connect/average/extrapolate line segments to get output like this</p> \n",
    " </figcaption>\n",
    "</figure>"
   ]
  },
  {
   "cell_type": "code",
   "execution_count": 1,
   "metadata": {
    "collapsed": false
   },
   "outputs": [],
   "source": [
    "#importing some useful packages\n",
    "import matplotlib.pyplot as plt\n",
    "import matplotlib.image as mpimg\n",
    "import numpy as np\n",
    "import cv2\n",
    "%matplotlib inline"
   ]
  },
  {
   "cell_type": "markdown",
   "metadata": {},
   "source": [
    "**Some OpenCV functions (beyond those introduced in the lesson) that might be useful for this project are:**\n",
    "\n",
    "`cv2.inRange()` for color selection  \n",
    "`cv2.fillPoly()` for regions selection  \n",
    "`cv2.line()` to draw lines on an image given endpoints  \n",
    "`cv2.addWeighted()` to coadd / overlay two images\n",
    "`cv2.cvtColor()` to grayscale or change color\n",
    "`cv2.imwrite()` to output images to file  \n",
    "`cv2.bitwise_and()` to apply a mask to an image\n",
    "\n",
    "**Check out the OpenCV documentation to learn about these and discover even more awesome functionality!**"
   ]
  },
  {
   "cell_type": "markdown",
   "metadata": {},
   "source": [
    "Below are some helper functions to help get you started. They should look familiar from the lesson!"
   ]
  },
  {
   "cell_type": "code",
   "execution_count": 2,
   "metadata": {
    "collapsed": false
   },
   "outputs": [],
   "source": [
    "import math\n",
    "\n",
    "def grayscale(img):\n",
    "    \"\"\"Applies the Grayscale transform\n",
    "    This will return an image with only one color channel\n",
    "    but NOTE: to see the returned image as grayscale\n",
    "    you should call plt.imshow(gray, cmap='gray')\"\"\"\n",
    "    return cv2.cvtColor(img, cv2.COLOR_RGB2GRAY)\n",
    "    # Or use BGR2GRAY if you read an image with cv2.imread()\n",
    "    # return cv2.cvtColor(img, cv2.COLOR_BGR2GRAY)\n",
    "    \n",
    "def canny(img, low_threshold, high_threshold):\n",
    "    \"\"\"Applies the Canny transform\"\"\"\n",
    "    return cv2.Canny(img, low_threshold, high_threshold)\n",
    "\n",
    "def gaussian_blur(img, kernel_size):\n",
    "    \"\"\"Applies a Gaussian Noise kernel\"\"\"\n",
    "    return cv2.GaussianBlur(img, (kernel_size, kernel_size), 0)\n",
    "\n",
    "def region_of_interest(img, vertices):\n",
    "    \"\"\"\n",
    "    Applies an image mask.\n",
    "    \n",
    "    Only keeps the region of the image defined by the polygon\n",
    "    formed from `vertices`. The rest of the image is set to black.\n",
    "    \"\"\"\n",
    "    #defining a blank mask to start with\n",
    "    mask = np.zeros_like(img)   \n",
    "    \n",
    "    #defining a 3 channel or 1 channel color to fill the mask with depending on the input image\n",
    "    if len(img.shape) > 2:\n",
    "        channel_count = img.shape[2]  # i.e. 3 or 4 depending on your image\n",
    "        ignore_mask_color = (255,) * channel_count\n",
    "    else:\n",
    "        ignore_mask_color = 255\n",
    "        \n",
    "    #filling pixels inside the polygon defined by \"vertices\" with the fill color    \n",
    "    cv2.fillPoly(mask, vertices, ignore_mask_color)\n",
    "    \n",
    "    #returning the image only where mask pixels are nonzero\n",
    "    masked_image = cv2.bitwise_and(img, mask)\n",
    "    return masked_image\n",
    "\n",
    "def max_point(lines):\n",
    "    max = 0\n",
    "    max_point = []\n",
    "    for line in lines:\n",
    "        for x1,y1,x2,y2 in line:\n",
    "            if (x1+y1) > max:\n",
    "                max = x1+y1\n",
    "                max_point = [x1,y1]\n",
    "            if (x2+y2) > max:\n",
    "                max = x2+y2\n",
    "                max_point = [x2,y2]\n",
    "    return max_point\n",
    "\n",
    "def min_point(lines):\n",
    "    min = sum(max_point(lines))\n",
    "    min_point = []\n",
    "    for line in lines:\n",
    "        for x1,y1,x2,y2 in line:\n",
    "            if (x1+y1) < min:\n",
    "                min = x1+y1\n",
    "                min_point = [x1,y1]\n",
    "            if (x2+y2) < min:\n",
    "                min = x2+y2\n",
    "                min_point = [x2,y2]\n",
    "    return min_point\n",
    "\n",
    "def slope(line):\n",
    "    slope = float(line[0][3] - line[0][1]) / float(line[0][2] - line[0][0])\n",
    "    return slope\n",
    "\n",
    "def slope_lines(lines):\n",
    "    #remove any lines with zero slopes; causes division by zero exception later\n",
    "    non_zero_slope_lines = lines\n",
    "    i = 0\n",
    "    for line in lines:\n",
    "        if (slope(line) == 0):\n",
    "            non_zero_slope_lines = np.delete(non_zero_slope_lines, i, axis=0)\n",
    "        else:\n",
    "            i += 1\n",
    "   \n",
    "    #remove any lines with almost zero slopes - lines close to horizontal\n",
    "    non_horizontal_slope_lines = non_zero_slope_lines\n",
    "    i = 0\n",
    "    for line in non_zero_slope_lines:\n",
    "        if (abs(slope(line)) < 0.35):\n",
    "            non_horizontal_slope_lines = np.delete(non_horizontal_slope_lines, i, axis=0)\n",
    "        else:\n",
    "            i += 1\n",
    "        \n",
    "    pos_slope_lines = non_horizontal_slope_lines\n",
    "    neg_slope_lines = non_horizontal_slope_lines\n",
    "    pos = 0\n",
    "    neg = 0\n",
    "    for line in non_horizontal_slope_lines:\n",
    "        if (slope(line) > 0):\n",
    "            neg_slope_lines = np.delete(neg_slope_lines, pos, axis=0)\n",
    "            neg += 1\n",
    "        else:\n",
    "            pos_slope_lines = np.delete(pos_slope_lines, neg, axis=0) \n",
    "            pos += 1\n",
    "    return non_horizontal_slope_lines, pos_slope_lines, neg_slope_lines\n",
    " \n",
    "def draw_lines(img, lines, color=[255, 0, 0], thickness=10): \n",
    "    global FL, NL, PL\n",
    "    valid_lines, pos_lines, neg_lines = slope_lines(lines)\n",
    "    if (np.sum(FL) == 0):\n",
    "        FL = valid_lines\n",
    "    if (np.sum(NL) == 0):\n",
    "        NL = neg_lines\n",
    "    if (np.sum(PL) == 0):\n",
    "        PL = pos_lines\n",
    "    if ((len(pos_lines) == 0) and (len(neg_lines) == 0)):\n",
    "        if(len(FL) == 0):\n",
    "            return\n",
    "        for line in FL:\n",
    "            for x1,y1,x2,y2 in line:\n",
    "                cv2.line(img, (x1, y1), (x2, y2), color, thickness)\n",
    "        return\n",
    "    if ((len(pos_lines) == 0) or (len(neg_lines) == 0)):\n",
    "        if ((len(pos_lines) != 0)):\n",
    "            max_pt = max_point(pos_lines)\n",
    "            min_pt = min_point(pos_lines)\n",
    "            final_line1 = np.concatenate((min_pt, max_pt))\n",
    "            final_line2 = NL\n",
    "            final_lines = np.concatenate(([[final_line1]], final_line2))\n",
    "            FL, PL, NL = slope_lines(final_lines)\n",
    "            for line in final_lines:\n",
    "                for x1,y1,x2,y2 in line:\n",
    "                    cv2.line(img, (x1, y1), (x2, y2), color, thickness)\n",
    "            return\n",
    "        else:\n",
    "            max_pt = max_point(neg_lines)\n",
    "            min_pt = min_point(neg_lines)\n",
    "            final_line1 = np.concatenate((min_pt, max_pt))\n",
    "            final_line2 = PL\n",
    "            final_lines = np.concatenate(([[final_line1]], final_line2))\n",
    "            FL, PL, NL = slope_lines(final_lines)\n",
    "            for line in final_lines:\n",
    "                for x1,y1,x2,y2 in line:\n",
    "                    cv2.line(img, (x1, y1), (x2, y2), color, thickness)\n",
    "            return\n",
    "\n",
    "    if (len(pos_lines) > len(neg_lines)):\n",
    "        max_pt = max_point(pos_lines)\n",
    "        min_pt = min_point(pos_lines)\n",
    "        final_line1 = np.concatenate((min_pt, max_pt))\n",
    "        neg_pt = [neg_lines[0][0][0], neg_lines[0][0][1]]\n",
    "        x_max = int(float(max_pt[1] - neg_pt[1])/slope(neg_lines[0]) + neg_pt[0])\n",
    "        y_max = max_pt[1]\n",
    "        x_min = int(float(min_pt[1] - neg_pt[1])/slope(neg_lines[0]) + neg_pt[0])\n",
    "        y_min = min_pt[1]\n",
    "        final_line2 = np.array([[[x_min, y_min, x_max, y_max]]])\n",
    "        final_lines = np.concatenate(([[final_line1]], final_line2))\n",
    "        FL, PL, NL = slope_lines(final_lines)\n",
    "    else:\n",
    "        max_pt = max_point(neg_lines)\n",
    "        min_pt = min_point(neg_lines)\n",
    "        final_line1 = np.concatenate((min_pt, max_pt))\n",
    "        pos_pt = [pos_lines[0][0][0], pos_lines[0][0][1]]\n",
    "        x_max = int(float(max_pt[1] - pos_pt[1])/slope(pos_lines[0]) + pos_pt[0])\n",
    "        y_max = max_pt[1]\n",
    "        x_min = int(float(min_pt[1] - pos_pt[1])/slope(pos_lines[0]) + pos_pt[0])\n",
    "        y_min = min_pt[1]\n",
    "        final_line2 = np.array([[[x_min, y_min, x_max, y_max]]])\n",
    "        final_lines = np.concatenate(([[final_line1]], final_line2))\n",
    "        FL, PL, NL = slope_lines(final_lines)\n",
    "\n",
    "    for line in final_lines:\n",
    "        for x1,y1,x2,y2 in line:\n",
    "            cv2.line(img, (x1, y1), (x2, y2), color, thickness)\n",
    "        \n",
    "def hough_lines(img, rho, theta, threshold, min_line_len, max_line_gap):\n",
    "    \"\"\"\n",
    "    `img` should be the output of a Canny transform.\n",
    "        \n",
    "    Returns an image with hough lines drawn.\n",
    "    \"\"\"\n",
    "    line_img = np.zeros((*img.shape, 3), dtype=np.uint8)\n",
    "    lines = cv2.HoughLinesP(img, rho, theta, threshold, np.array([]), minLineLength=min_line_len, maxLineGap=max_line_gap)\n",
    "    if lines is None:\n",
    "         return line_img\n",
    "    draw_lines(line_img, lines)\n",
    "    return line_img\n",
    "\n",
    "# Python 3 has support for cool math symbols.\n",
    "\n",
    "def weighted_img(img, initial_img, α=0.8, β=1., λ=0.):\n",
    "    \"\"\"\n",
    "    `img` is the output of the hough_lines(), An image with lines drawn on it.\n",
    "    Should be a blank image (all black) with lines drawn on it.\n",
    "    \n",
    "    `initial_img` should be the image before any processing.\n",
    "    \n",
    "    The result image is computed as follows:\n",
    "    \n",
    "    initial_img * α + img * β + λ\n",
    "    NOTE: initial_img and img must be the same shape!\n",
    "    \"\"\"\n",
    "    return cv2.addWeighted(initial_img, α, img, β, λ)"
   ]
  },
  {
   "cell_type": "code",
   "execution_count": 3,
   "metadata": {
    "collapsed": true
   },
   "outputs": [],
   "source": [
    "def process_image(image):\n",
    "    # NOTE: The output you return should be a color image (3 channel) for processing video below\n",
    "    # TODO: put your pipeline here,\n",
    "    # you should return the final output (image with lines are drawn on lanes)\n",
    "    \n",
    "    # Read in the image\n",
    "    #initial_image = mpimg.imread(image)\n",
    "    if (type(image).__module__ == np.__name__):\n",
    "        initial_image = image\n",
    "    else:\n",
    "        initial_image = mpimg.imread(image)\n",
    "        \n",
    "    img_shape = initial_image.shape\n",
    "\n",
    "    # Convert the image to grayscale\n",
    "    gray = grayscale(initial_image)\n",
    "\n",
    "    # Define a kernel size and apply Gaussian smoothing\n",
    "    kernel_size = 5\n",
    "    blur_gray = gaussian_blur(gray, kernel_size)\n",
    "\n",
    "    # Define our parameters for Canny and apply\n",
    "    low_threshold = 50\n",
    "    high_threshold = 150\n",
    "    edges = canny(blur_gray, low_threshold, high_threshold)\n",
    "\n",
    "    # Defining a four sided polygon to mask\n",
    "    #vertices = np.array([[(100, 540), (480, 300), (480,150), (960-50,540)]], dtype=np.int32)\n",
    "    vertices = np.array([[(100, img_shape[0]),(img_shape[1]/2, (img_shape[0]/2)+30), (img_shape[1]/2, (img_shape[0]/2)+30), (img_shape[1]-50,img_shape[0])]], dtype=np.int32)\n",
    "    masked_edges = region_of_interest(edges, vertices)\n",
    "\n",
    "    # Define the Hough transform parameters, run Hough on edge detected image\n",
    "    # Return lines detected by Hough\n",
    "    rho = 1 # distance resolution in pixels of the Hough grid\n",
    "    theta = np.pi/360 # angular resolution in radians of the Hough grid, 60, 270, 180, 360\n",
    "    threshold = 35     # minimum number of votes (intersections in Hough grid cell)\n",
    "    min_line_length = 40 #minimum number of pixels making up a line\n",
    "    max_line_gap = 1    # maximum gap in pixels between connectable line segments\n",
    "    line_image = hough_lines(masked_edges, rho, theta, threshold, min_line_length, max_line_gap)\n",
    "\n",
    "    # Overlay the detected line on the initial image\n",
    "    final_image = weighted_img(line_image, initial_image, α=0.8, β=1., λ=0.)\n",
    "    \n",
    "    return final_image"
   ]
  },
  {
   "cell_type": "markdown",
   "metadata": {},
   "source": [
    "## Test on Images\n",
    "\n",
    "Now you should build your pipeline to work on the images in the directory \"test_images\"  \n",
    "**You should make sure your pipeline works well on these images before you try the videos.**"
   ]
  },
  {
   "cell_type": "code",
   "execution_count": 4,
   "metadata": {
    "collapsed": false
   },
   "outputs": [
    {
     "name": "stdout",
     "output_type": "stream",
     "text": [
      "image files ['solidWhiteCurve.jpg', 'solidWhiteRight.jpg', 'solidYellowCurve.jpg', 'solidYellowCurve2.jpg', 'solidYellowLeft.jpg', 'whiteCarLaneSwitch.jpg']\n"
     ]
    }
   ],
   "source": [
    "import os\n",
    "image_file_list = os.listdir(\"test_images/\")\n",
    "print(\"image files\", image_file_list)"
   ]
  },
  {
   "cell_type": "markdown",
   "metadata": {},
   "source": [
    "run your solution on all test_images and make copies into the test_images directory)."
   ]
  },
  {
   "cell_type": "code",
   "execution_count": 5,
   "metadata": {
    "collapsed": true
   },
   "outputs": [],
   "source": [
    "#Global initialization. NL is Negative slope lines, PL is positive slope lines, FL is final lines. This is used to interpolate\n",
    "NL = np.array([[[0,0,0,0]]])\n",
    "PL = np.array([[[0,0,0,0]]])\n",
    "FL = np.concatenate((NL,PL))"
   ]
  },
  {
   "cell_type": "code",
   "execution_count": 6,
   "metadata": {
    "collapsed": false
   },
   "outputs": [],
   "source": [
    "for image_file in image_file_list:\n",
    "    image_file_and_dir = \"test_images/\"+image_file\n",
    "    output_file = os.path.splitext(image_file_and_dir)[0]+\"_output.jpg\"\n",
    "    fnl = process_image(image_file_and_dir)\n",
    "    mpimg.imsave(output_file, fnl)"
   ]
  },
  {
   "cell_type": "markdown",
   "metadata": {},
   "source": [
    "## Test on Videos\n",
    "\n",
    "You know what's cooler than drawing lanes over images? Drawing lanes over video!\n",
    "\n",
    "We can test our solution on two provided videos:\n",
    "\n",
    "`solidWhiteRight.mp4`\n",
    "\n",
    "`solidYellowLeft.mp4`"
   ]
  },
  {
   "cell_type": "markdown",
   "metadata": {},
   "source": [
    "Let's try the one with the solid white lane on the right first ..."
   ]
  },
  {
   "cell_type": "code",
   "execution_count": 7,
   "metadata": {
    "collapsed": true
   },
   "outputs": [],
   "source": [
    "# Import everything needed to edit/save/watch video clips\n",
    "from moviepy.editor import VideoFileClip\n",
    "from IPython.display import HTML"
   ]
  },
  {
   "cell_type": "code",
   "execution_count": 8,
   "metadata": {
    "collapsed": false
   },
   "outputs": [
    {
     "name": "stdout",
     "output_type": "stream",
     "text": [
      "[MoviePy] >>>> Building video white.mp4\n",
      "[MoviePy] Writing video white.mp4\n"
     ]
    },
    {
     "name": "stderr",
     "output_type": "stream",
     "text": [
      "100%|████████████████████████████████████████████████████████████████████████████████████████████████████████████████████████████████████████████████████████████▎| 221/222 [00:09<00:00, 24.14it/s]\n"
     ]
    },
    {
     "name": "stdout",
     "output_type": "stream",
     "text": [
      "[MoviePy] Done.\n",
      "[MoviePy] >>>> Video ready: white.mp4 \n",
      "\n",
      "Wall time: 10.8 s\n"
     ]
    }
   ],
   "source": [
    "white_output = 'white.mp4'\n",
    "clip1 = VideoFileClip(\"solidWhiteRight.mp4\")\n",
    "white_clip = clip1.fl_image(process_image) #NOTE: this function expects color images!!\n",
    "%time white_clip.write_videofile(white_output, audio=False)"
   ]
  },
  {
   "cell_type": "markdown",
   "metadata": {},
   "source": [
    "Play the video inline, or if you prefer find the video in your filesystem (should be in the same directory) and play it in your video player of choice."
   ]
  },
  {
   "cell_type": "code",
   "execution_count": 9,
   "metadata": {
    "collapsed": false
   },
   "outputs": [
    {
     "data": {
      "text/html": [
       "\n",
       "<video width=\"960\" height=\"540\" controls>\n",
       "  <source src=\"white.mp4\">\n",
       "</video>\n"
      ],
      "text/plain": [
       "<IPython.core.display.HTML object>"
      ]
     },
     "execution_count": 9,
     "metadata": {},
     "output_type": "execute_result"
    }
   ],
   "source": [
    "HTML(\"\"\"\n",
    "<video width=\"960\" height=\"540\" controls>\n",
    "  <source src=\"{0}\">\n",
    "</video>\n",
    "\"\"\".format(white_output))"
   ]
  },
  {
   "cell_type": "markdown",
   "metadata": {},
   "source": [
    "**At this point, if you were successful you probably have the Hough line segments drawn onto the road, but what about identifying the full extent of the lane and marking it clearly as in the example video (P1_example.mp4)?  Think about defining a line to run the full length of the visible lane based on the line segments you identified with the Hough Transform.  Modify your draw_lines function accordingly and try re-running your pipeline.**"
   ]
  },
  {
   "cell_type": "markdown",
   "metadata": {},
   "source": [
    "Now for the one with the solid yellow lane on the left. This one's more tricky!"
   ]
  },
  {
   "cell_type": "code",
   "execution_count": 10,
   "metadata": {
    "collapsed": false
   },
   "outputs": [
    {
     "name": "stdout",
     "output_type": "stream",
     "text": [
      "[MoviePy] >>>> Building video yellow.mp4\n",
      "[MoviePy] Writing video yellow.mp4\n"
     ]
    },
    {
     "name": "stderr",
     "output_type": "stream",
     "text": [
      "100%|████████████████████████████████████████████████████████████████████████████████████████████████████████████████████████████████████████████████████████████▊| 681/682 [00:30<00:00, 22.22it/s]\n"
     ]
    },
    {
     "name": "stdout",
     "output_type": "stream",
     "text": [
      "[MoviePy] Done.\n",
      "[MoviePy] >>>> Video ready: yellow.mp4 \n",
      "\n",
      "Wall time: 32.3 s\n"
     ]
    }
   ],
   "source": [
    "yellow_output = 'yellow.mp4'\n",
    "clip2 = VideoFileClip('solidYellowLeft.mp4')\n",
    "yellow_clip = clip2.fl_image(process_image)\n",
    "%time yellow_clip.write_videofile(yellow_output, audio=False)"
   ]
  },
  {
   "cell_type": "code",
   "execution_count": 11,
   "metadata": {
    "collapsed": false
   },
   "outputs": [
    {
     "data": {
      "text/html": [
       "\n",
       "<video width=\"960\" height=\"540\" controls>\n",
       "  <source src=\"yellow.mp4\">\n",
       "</video>\n"
      ],
      "text/plain": [
       "<IPython.core.display.HTML object>"
      ]
     },
     "execution_count": 11,
     "metadata": {},
     "output_type": "execute_result"
    }
   ],
   "source": [
    "HTML(\"\"\"\n",
    "<video width=\"960\" height=\"540\" controls>\n",
    "  <source src=\"{0}\">\n",
    "</video>\n",
    "\"\"\".format(yellow_output))"
   ]
  },
  {
   "cell_type": "markdown",
   "metadata": {},
   "source": [
    "## Reflections\n",
    "\n",
    "Congratulations on finding the lane lines!  As the final step in this project, we would like you to share your thoughts on your lane finding pipeline... specifically, how could you imagine making your algorithm better / more robust?  Where will your current algorithm be likely to fail?\n",
    "\n",
    "Please add your thoughts below,  and if you're up for making your pipeline more robust, be sure to scroll down and check out the optional challenge video below!\n"
   ]
  },
  {
   "cell_type": "markdown",
   "metadata": {},
   "source": [
    "## Kris Harikrishnan Reflections\n",
    "\n",
    "I've completed all the assignments including the challenge question below.\n",
    "\n",
    "Some comments on my work:\n",
    "* If I could not detect any lanes in the current frame, I extrapolated the lane (lines) from the previos frame\n",
    "* If one of the lanes (left or right) could not be detected, I extrapolated the missing lane (line) from the previous frame\n",
    "* If one of the lines (left or right) was shorter than the other I extrapolated to make them about the same length\n",
    "* I removed all the lines (such as horizontal) other than the lane lines\n",
    "\n",
    "Some reflections:\n",
    "* Hard to detect lanes in the shady part of the road\n",
    "* Not sure how this code will work on a road with no lane markings but just the gutter\n",
    "* Not sure how this code will work in a center lane of a multi-lane freeway assuming there are no solid lane lines on both sides"
   ]
  },
  {
   "cell_type": "markdown",
   "metadata": {},
   "source": [
    "## Submission\n",
    "\n",
    "If you're satisfied with your video outputs it's time to submit!  Submit this ipython notebook for review.\n"
   ]
  },
  {
   "cell_type": "markdown",
   "metadata": {
    "collapsed": true
   },
   "source": [
    "## Optional Challenge\n",
    "\n",
    "Try your lane finding pipeline on the video below.  Does it still work?  Can you figure out a way to make it more robust?  If you're up for the challenge, modify your pipeline so it works with this video and submit it along with the rest of your project!"
   ]
  },
  {
   "cell_type": "code",
   "execution_count": 12,
   "metadata": {
    "collapsed": false
   },
   "outputs": [
    {
     "name": "stdout",
     "output_type": "stream",
     "text": [
      "[MoviePy] >>>> Building video extra.mp4\n",
      "[MoviePy] Writing video extra.mp4\n"
     ]
    },
    {
     "name": "stderr",
     "output_type": "stream",
     "text": [
      "100%|█████████████████████████████████████████████████████████████████████████████████████████████████████████████████████████████████████████████████████████████| 251/251 [00:24<00:00, 11.83it/s]\n"
     ]
    },
    {
     "name": "stdout",
     "output_type": "stream",
     "text": [
      "[MoviePy] Done.\n",
      "[MoviePy] >>>> Video ready: extra.mp4 \n",
      "\n",
      "Wall time: 27.1 s\n"
     ]
    }
   ],
   "source": [
    "challenge_output = 'extra.mp4'\n",
    "clip2 = VideoFileClip('challenge.mp4')\n",
    "challenge_clip = clip2.fl_image(process_image)\n",
    "%time challenge_clip.write_videofile(challenge_output, audio=False)"
   ]
  },
  {
   "cell_type": "code",
   "execution_count": 13,
   "metadata": {
    "collapsed": false
   },
   "outputs": [
    {
     "data": {
      "text/html": [
       "\n",
       "<video width=\"960\" height=\"540\" controls>\n",
       "  <source src=\"extra.mp4\">\n",
       "</video>\n"
      ],
      "text/plain": [
       "<IPython.core.display.HTML object>"
      ]
     },
     "execution_count": 13,
     "metadata": {},
     "output_type": "execute_result"
    }
   ],
   "source": [
    "HTML(\"\"\"\n",
    "<video width=\"960\" height=\"540\" controls>\n",
    "  <source src=\"{0}\">\n",
    "</video>\n",
    "\"\"\".format(challenge_output))"
   ]
  }
 ],
 "metadata": {
  "anaconda-cloud": {},
  "kernelspec": {
   "display_name": "Python [default]",
   "language": "python",
   "name": "python3"
  },
  "language_info": {
   "codemirror_mode": {
    "name": "ipython",
    "version": 3
   },
   "file_extension": ".py",
   "mimetype": "text/x-python",
   "name": "python",
   "nbconvert_exporter": "python",
   "pygments_lexer": "ipython3",
   "version": "3.5.2"
  }
 },
 "nbformat": 4,
 "nbformat_minor": 0
}
